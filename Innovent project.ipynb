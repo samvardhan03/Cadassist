{
 "cells": [
  {
   "cell_type": "code",
   "execution_count": 3,
   "id": "09426a46-74e5-47f6-a65b-a17a3f84efce",
   "metadata": {},
   "outputs": [],
   "source": [
    "'''\n",
    "Dependencies required:\n",
    "1. Download and install ollama\n",
    "2. pip install langchain\n",
    "3. pip install ollama\n",
    "'''\n",
    "from langchain.chains import SimpleSequentialChain\n",
    "from langchain.prompts import PromptTemplate\n",
    "from langchain.chains import LLMChain\n",
    "from langchain_core.prompts import ChatPromptTemplate\n",
    "from langchain_ollama.llms import OllamaLLM\n"
   ]
  },
  {
   "cell_type": "code",
   "execution_count": 4,
   "id": "4dba32d0-3a52-40e6-9553-ff61a968b7d5",
   "metadata": {
    "editable": true,
    "slideshow": {
     "slide_type": ""
    },
    "tags": []
   },
   "outputs": [],
   "source": [
    "class automation():\n",
    "    \n",
    "    def __init__(self,user_input: None|str):\n",
    "        if user_input==None:\n",
    "            return \"Enter a valid input\"\n",
    "        self.user_input=user_input \n",
    "        self.error=None\n",
    "        self.counter=1\n",
    "        self.curr_response=None\n",
    "        self.model = OllamaLLM(model=\"codellama\")\n",
    "        self.exit=False\n",
    "\n",
    "\n",
    "    def run(self):\n",
    "        start=self.curr_response.find(\"<CODE_START\")+12\n",
    "        end=self.curr_response.find(\"<CODE_END\")\n",
    "        code=self.curr_response[start:end]\n",
    "        try:\n",
    "            exec(code)\n",
    "        except Exception as error:\n",
    "            print(\"Error detected: \",error)\n",
    "            self.error=error #error attr updated !\n",
    "        else:\n",
    "            print(\"No errors\")\n",
    "            self.error=None \n",
    "        finally:\n",
    "            print(\".run() method complete!\")\n",
    "\n",
    "\n",
    "    \n",
    "    def execute(self):\n",
    "        self.generate_code()\n",
    "        self.run()\n",
    "        \n",
    "        while self.error != None:\n",
    "            print(\"regenerating....\")\n",
    "            self.generate_code()\n",
    "            if self.exit:\n",
    "                return \"Execution failed try again\"\n",
    "            self.run()\n",
    "        print(\".execute() method complete!\")\n",
    "\n",
    "\n",
    "    \n",
    "    def generate_code(self):\n",
    "        if self.counter>=4:\n",
    "            self.exit=True\n",
    "        elif self.counter==1:\n",
    "            prompt_template=ChatPromptTemplate.from_messages([\n",
    "              ('system',\"\"\"You are an assistant to a CAD Designer and your job is to write a python function to make real time changes to a CAD project adhering to the \n",
    "                        the user's instructions and execute the function with appropriate arguments as required . Important: \n",
    "                        1. Envolope the code in <CODE_START> generated code here <CODE_END>\n",
    "                        2. pip install required depencies\"\"\"),\n",
    "              ('user',\"\"\"write a function to perform the following operation in the currently open CAD model using the `win32com.client` library : {user_input} \n",
    "                  additionally check if AutoCAD is running, and handle errors gracefully and return an error message \"\"\") ])\n",
    "            \n",
    "            initial_generate=prompt_template | self.model\n",
    "            response=initial_generate.invoke({'user_input':self.user_input})\n",
    "            self.counter+=1 #counter attr updated !\n",
    "        else:\n",
    "            prompt_template_name = PromptTemplate(\n",
    "            input_variables =['old code','error','user input'],\n",
    "            template = \"\"\"This is the code you generated earlier: {old code}\n",
    "                          And this is the error that code generated: {error} .\n",
    "                          Please fix this error and regenerate the function and call the function with the user's original requirements given below in mind or use random arguments if not provided , which is {user input}\"\"\"\n",
    "            )\n",
    "            \n",
    "            regen_code =LLMChain(llm=self.model, prompt=prompt_template_name)\n",
    "            response = regen_code.invoke({'old code': self.curr_response, 'error': self.error, 'user input':self.user_input})\n",
    "            self.counter+=1 #counter attr updated !\n",
    "    \n",
    "        print(\".generate_code() method complete! , counter =\",self.counter-1)\n",
    "        self.curr_response=response #updated current response !  \n",
    "            "
   ]
  },
  {
   "cell_type": "code",
   "execution_count": 5,
   "id": "5e19dfc3-3d07-4953-b2c0-6dcff30c3a2d",
   "metadata": {
    "editable": true,
    "slideshow": {
     "slide_type": ""
    },
    "tags": []
   },
   "outputs": [],
   "source": [
    "input_1=automation(\"Draw a line from the start point: (2607.2537,1866.4554,0) to end point: (4153.9985,1411.3205,0) in the Drawing1.dwg document in AutoCAD\")"
   ]
  },
  {
   "cell_type": "code",
   "execution_count": 6,
   "id": "523461fc-4397-439a-8747-99b40f07eb33",
   "metadata": {},
   "outputs": [
    {
     "name": "stdout",
     "output_type": "stream",
     "text": [
      ".generate_code() method complete! , counter = 1\n",
      "No errors\n",
      ".run() method complete!\n",
      ".execute() method complete!\n"
     ]
    }
   ],
   "source": [
    "input_1.execute()"
   ]
  },
  {
   "cell_type": "code",
   "execution_count": 8,
   "id": "7540c32f-a3d2-4ba9-9e7c-dcdd3ed0560a",
   "metadata": {
    "collapsed": true,
    "jupyter": {
     "outputs_hidden": true
    },
    "scrolled": true
   },
   "outputs": [
    {
     "name": "stdout",
     "output_type": "stream",
     "text": [
      "<CODE_START>\n",
      "import win32com.client\n",
      "\n",
      "def draw_line(start_point, end_point):\n",
      "    try:\n",
      "        acad = win32com.client.Dispatch(\"AutoCAD.Application\")\n",
      "        doc = acad.ActiveDocument\n",
      "        if not doc.IsValidObject():\n",
      "            raise ValueError(\"No active document found.\")\n",
      "        if not doc.EditingContext.IsReadOnly:\n",
      "            line = doc.ModelSpace.AddLine(start_point, end_point)\n",
      "            line.Layer = \"Default\"\n",
      "    except Exception as e:\n",
      "        print(f\"An error occurred while drawing the line: {e}\")\n",
      "        return \"Error\"\n",
      "    finally:\n",
      "        acad.Quit()\n",
      "<CODE_END>\n",
      "\n",
      "Note: This code is an example and may need to be modified to work with your specific AutoCAD installation. Additionally, this code does not handle errors gracefully and should be refactored accordingly.\n"
     ]
    }
   ],
   "source": [
    "print(input_1.curr_response)"
   ]
  },
  {
   "cell_type": "code",
   "execution_count": null,
   "id": "eb68a0b1-a127-4c3b-8cb2-31f3044bb03f",
   "metadata": {},
   "outputs": [],
   "source": [
    "'''\n",
    "For executing a user input say input from user => \"Draw a line from the start point: (2607.2537,1866.4554,0) to end point: (4153.9985,1411.3205,0) in the Drawing1.dwg document in AutoCAD \"\n",
    "\n",
    "create an instance of the 'automate'\n",
    "'''"
   ]
  }
 ],
 "metadata": {
  "kernelspec": {
   "display_name": "general",
   "language": "python",
   "name": "general"
  },
  "language_info": {
   "codemirror_mode": {
    "name": "ipython",
    "version": 3
   },
   "file_extension": ".py",
   "mimetype": "text/x-python",
   "name": "python",
   "nbconvert_exporter": "python",
   "pygments_lexer": "ipython3",
   "version": "3.10.9"
  }
 },
 "nbformat": 4,
 "nbformat_minor": 5
}
